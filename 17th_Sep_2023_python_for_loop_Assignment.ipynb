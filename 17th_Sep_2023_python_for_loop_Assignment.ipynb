{
 "cells": [
  {
   "cell_type": "markdown",
   "id": "043a5391-7aed-4b3f-a005-a325fdaef3d9",
   "metadata": {},
   "source": [
    "# <span style=\"color: blue;\">Basic level:</span>"
   ]
  },
  {
   "cell_type": "markdown",
   "id": "fbca2b2e-00d4-4eb1-b7b0-62d51bf4a894",
   "metadata": {},
   "source": [
    "####  <span style=\"color: green;\"> 1. Write a Python program to print the numbers from 1 to 10 using a `for` loop.</span>"
   ]
  },
  {
   "cell_type": "code",
   "execution_count": 8,
   "id": "73b5d1f1-759e-4b53-a4ce-59f0b7f11444",
   "metadata": {},
   "outputs": [
    {
     "name": "stdout",
     "output_type": "stream",
     "text": [
      "1\n",
      "2\n",
      "3\n",
      "4\n",
      "5\n",
      "6\n",
      "7\n",
      "8\n",
      "9\n",
      "10\n"
     ]
    }
   ],
   "source": [
    "for i in range(0,10):\n",
    "    i=i+1\n",
    "    print(i)"
   ]
  },
  {
   "cell_type": "markdown",
   "id": "98cdf859-d08c-414d-bba2-cf5afe7a10fc",
   "metadata": {},
   "source": [
    "####  <span style=\"color: green;\"> 2. Create a program that calculates the sum of all numbers in a list using a `for` loop.</span>"
   ]
  },
  {
   "cell_type": "code",
   "execution_count": 2,
   "id": "ae18f02d-596f-4f44-91bb-2104970dd7cd",
   "metadata": {},
   "outputs": [
    {
     "name": "stdout",
     "output_type": "stream",
     "text": [
      "The sum of all the numbers in the list:  17\n"
     ]
    }
   ],
   "source": [
    "my_list = [2,4,6,5]\n",
    "sum = 0\n",
    "for num in my_list :\n",
    "    sum+=num\n",
    "print(\"The sum of all the numbers in the list: \",sum)\n",
    "    "
   ]
  },
  {
   "cell_type": "markdown",
   "id": "792c84be-35b1-4e2a-b7b8-325c189a3a30",
   "metadata": {},
   "source": [
    "####  <span style=\"color: green;\"> 3. Write a program to print the characters of a string in reverse order using a `for` loop.</span>"
   ]
  },
  {
   "cell_type": "code",
   "execution_count": 7,
   "id": "c1d9e53c-ad2f-4f68-b782-e4617f304430",
   "metadata": {},
   "outputs": [
    {
     "name": "stdin",
     "output_type": "stream",
     "text": [
      "Enter the original string : python\n"
     ]
    },
    {
     "name": "stdout",
     "output_type": "stream",
     "text": [
      "The reverse string is:  nohtyp\n"
     ]
    }
   ],
   "source": [
    "def reverse_string(str):  \n",
    "    str1 = \"\"    \n",
    "    for i in str:  \n",
    "        str1 = i + str1  \n",
    "    return str1    # It will return the reverse string to the caller function  \n",
    "     \n",
    "str = input(\"Enter the original string :\")           \n",
    " \n",
    "print(\"The reverse string is: \",reverse_string(str))\n"
   ]
  },
  {
   "cell_type": "markdown",
   "id": "f6836924-630e-4e18-8fa7-bac8ec2bfa5d",
   "metadata": {},
   "source": [
    "####  <span style=\"color: green;\"> 4. Develop a program that finds the factorial of a given number using a `for` loop.</span>"
   ]
  },
  {
   "cell_type": "code",
   "execution_count": 12,
   "id": "72a7a4f9-d84c-44f0-8c8a-6c55a34be702",
   "metadata": {},
   "outputs": [
    {
     "name": "stdin",
     "output_type": "stream",
     "text": [
      "Enter the number for calculate the factorial: 5\n"
     ]
    },
    {
     "name": "stdout",
     "output_type": "stream",
     "text": [
      "Factorial of  5 : 120\n"
     ]
    }
   ],
   "source": [
    "num =  int(input(\"Enter the number for calculate the factorial:\"))\n",
    "factorial = 1\n",
    "if num<0:\n",
    "    print(\"Factorial does not exist for negetive numbers\")\n",
    "elif num ==0:\n",
    "    print(\"Factorial of 0:  1\")\n",
    "else:\n",
    "    for i in range(1,num+1):\n",
    "        factorial =  factorial*i\n",
    "    print(\"Factorial of \",num,\":\",factorial)\n",
    "    "
   ]
  },
  {
   "cell_type": "markdown",
   "id": "e61f95d9-0ed2-4916-a506-8341cc20caa5",
   "metadata": {},
   "source": [
    "####  <span style=\"color: green;\">5. Create a program to print the multiplication table of a given number using a `for` loop.</span>"
   ]
  },
  {
   "cell_type": "code",
   "execution_count": 20,
   "id": "494d8ca4-ffd3-423d-a5f7-8f59cad3b4d1",
   "metadata": {},
   "outputs": [
    {
     "name": "stdin",
     "output_type": "stream",
     "text": [
      "The number to calculate multiplication is : 5\n"
     ]
    },
    {
     "name": "stdout",
     "output_type": "stream",
     "text": [
      "5 * 1 = 5\n",
      "5 * 2 = 10\n",
      "5 * 3 = 15\n",
      "5 * 4 = 20\n",
      "5 * 5 = 25\n",
      "5 * 6 = 30\n",
      "5 * 7 = 35\n",
      "5 * 8 = 40\n",
      "5 * 9 = 45\n",
      "5 * 10 = 50\n"
     ]
    }
   ],
   "source": [
    "num =  int(input(\"The number to calculate multiplication is :\"))\n",
    "\n",
    "for i in range (1,11):\n",
    "    result = num*i\n",
    "    print(num ,\"*\",i,\"=\",result)"
   ]
  },
  {
   "cell_type": "markdown",
   "id": "bee282ce-2c46-4fcc-931b-c639147b0538",
   "metadata": {},
   "source": [
    "####  <span style=\"color: green;\">6. Write a program that counts the number of even and odd numbers in a list using a `for` loop.</span>"
   ]
  },
  {
   "cell_type": "code",
   "execution_count": 21,
   "id": "eea08a64-417d-43f7-96ff-15c0dad14464",
   "metadata": {},
   "outputs": [
    {
     "name": "stdout",
     "output_type": "stream",
     "text": [
      "Given_list:  [2, 4, 6, 5, 10, 7, 8, 9, 12, 15]\n",
      "The count of even numbers in the list is : 6\n",
      "The count of odd numbers in the list is : 4\n"
     ]
    }
   ],
   "source": [
    "my_list = [2,4,6,5,10,7,8,9,12,15]\n",
    "even_count = 0\n",
    "odd_count = 0\n",
    "for i in my_list:\n",
    "    if i % 2 ==0:\n",
    "        even_count+=1\n",
    "    else:\n",
    "        odd_count+=1\n",
    "print(\"Given_list: \",my_list)\n",
    "print(\"The count of even numbers in the list is :\",even_count)\n",
    "print(\"The count of odd numbers in the list is :\",odd_count)"
   ]
  },
  {
   "cell_type": "markdown",
   "id": "46625fb9-a722-4e72-9c4e-c056cb022fa4",
   "metadata": {},
   "source": [
    "####  <span style=\"color: green;\">7. Develop a program that prints the squares of numbers from 1 to 5 using a `for` loop.</span>"
   ]
  },
  {
   "cell_type": "code",
   "execution_count": 26,
   "id": "2037abf5-05b2-4a45-9c90-55d0e00ed5c0",
   "metadata": {},
   "outputs": [
    {
     "name": "stdout",
     "output_type": "stream",
     "text": [
      "The squares of numbers from 1 to 5: \n",
      "The square of 1 : 1\n",
      "The square of 2 : 4\n",
      "The square of 3 : 9\n",
      "The square of 4 : 16\n",
      "The square of 5 : 25\n"
     ]
    }
   ],
   "source": [
    "print(\"The squares of numbers from 1 to 5: \")\n",
    "for i in range(1,6):\n",
    "    squares = i**2\n",
    "    print(\"The square of\",i,\":\",squares)"
   ]
  },
  {
   "cell_type": "markdown",
   "id": "860e9944-73c3-41d3-9448-9adf388c7069",
   "metadata": {},
   "source": [
    "####  <span style=\"color: green;\">8. Create a program to find the length of a string without using the `len()` function.</span>"
   ]
  },
  {
   "cell_type": "code",
   "execution_count": 28,
   "id": "8038e2eb-6c67-4a11-9361-4b238fe871e5",
   "metadata": {},
   "outputs": [
    {
     "name": "stdin",
     "output_type": "stream",
     "text": [
      "Enter the string:  asmita\n"
     ]
    },
    {
     "name": "stdout",
     "output_type": "stream",
     "text": [
      "The lenth of the string is : 6\n"
     ]
    }
   ],
   "source": [
    "my_string = input(\"Enter the string: \")\n",
    "count = 0\n",
    "for i in my_string:\n",
    "    count+=1\n",
    "print(\"The lenth of the string is :\",count)"
   ]
  },
  {
   "cell_type": "markdown",
   "id": "6e086708-88f1-4f51-bffd-0ac85e9cd3d4",
   "metadata": {},
   "source": [
    "####  <span style=\"color: green;\">9. Write a program that calculates the average of a list of numbers using a `for` loop.</span>"
   ]
  },
  {
   "cell_type": "code",
   "execution_count": 38,
   "id": "ffdc4cea-d02b-4192-8ea0-14329905e2c2",
   "metadata": {},
   "outputs": [
    {
     "name": "stdout",
     "output_type": "stream",
     "text": [
      "[2, 4, 6, 5, 10, 7, 8, 9, 12, 15]\n",
      "The average is : 7.8\n"
     ]
    }
   ],
   "source": [
    "my_list = [2,4,6,5,10,7,8,9,12,15]\n",
    "sum = 0\n",
    "count = 0\n",
    "for i in my_list:\n",
    "    sum+=i\n",
    "    count+=1\n",
    "    avrg = sum/count\n",
    "print(my_list)\n",
    "print(\"The average is :\",avrg)"
   ]
  },
  {
   "cell_type": "markdown",
   "id": "b4c40d76-076b-44f7-9b9d-df06fcabeab1",
   "metadata": {},
   "source": [
    "####  <span style=\"color: green;\">10. Develop a program that prints the first `n` Fibonacci numbers using a `for` loop.</span>"
   ]
  },
  {
   "cell_type": "code",
   "execution_count": 41,
   "id": "af9409d6-dee9-4aaf-a192-1e63ff4b9d0d",
   "metadata": {},
   "outputs": [
    {
     "name": "stdin",
     "output_type": "stream",
     "text": [
      "Enter the number :  10\n"
     ]
    },
    {
     "name": "stdout",
     "output_type": "stream",
     "text": [
      "Fibbonaci numbers upto  10 :\n",
      "1\n",
      "2\n",
      "3\n",
      "5\n",
      "8\n",
      "13\n",
      "21\n",
      "34\n",
      "55\n",
      "89\n"
     ]
    }
   ],
   "source": [
    "a = 0\n",
    "b = 1\n",
    "n = int(input(\"Enter the number : \")) \n",
    "print (\"Fibbonaci numbers upto \",n,\":\")\n",
    "for i in range(1,n+1):\n",
    "    c= a+b\n",
    "    print(c)\n",
    "    a = b\n",
    "    b = c"
   ]
  },
  {
   "cell_type": "markdown",
   "id": "b79607a4-044f-49c0-a7ad-f05c4fbdd266",
   "metadata": {},
   "source": [
    "# <span style=\"color: blue;\">Intermediate Level:</span>"
   ]
  },
  {
   "cell_type": "markdown",
   "id": "b02ec8e5-3101-4564-a31b-2f5072e6f852",
   "metadata": {},
   "source": [
    "####  <span style=\"color: green;\">11. Write a program to check if a given list contains any duplicates using a `for` loop.</span>"
   ]
  },
  {
   "cell_type": "code",
   "execution_count": 56,
   "id": "70eddf73-3fd0-4b55-8850-5f535b0f0706",
   "metadata": {},
   "outputs": [
    {
     "name": "stdout",
     "output_type": "stream",
     "text": [
      "This list contains 3 duplicate items\n"
     ]
    }
   ],
   "source": [
    "my_list = [2,4,6,8,4,12,14,17,6,8]\n",
    "unique_list = []\n",
    "duplicate_list =[]\n",
    "for items in my_list :\n",
    "    if items not in unique_list:\n",
    "        unique_list.append(items)\n",
    "    elif items  not in duplicate_list:\n",
    "        duplicate_list.append(items)\n",
    "if len(duplicate_list) >= 1:\n",
    "    print(\"This list contains\",len(duplicate_list),\"duplicate items\")\n",
    "else:\n",
    "    print(\"This list does not contains any duplicate items\")"
   ]
  },
  {
   "cell_type": "markdown",
   "id": "75fa0952-af44-4506-8b9a-bbd6ea1564ab",
   "metadata": {},
   "source": [
    "####  <span style=\"color: green;\">12. Create a program that prints the prime numbers in a given range using a `for` loop.</span>"
   ]
  },
  {
   "cell_type": "code",
   "execution_count": 58,
   "id": "718c6a64-e96b-42a9-acc7-09cae273e5d7",
   "metadata": {},
   "outputs": [
    {
     "name": "stdout",
     "output_type": "stream",
     "text": [
      "Prime numbers: \n",
      "1\n",
      "3\n",
      "5\n",
      "7\n",
      "9\n"
     ]
    }
   ],
   "source": [
    "print(\"Prime numbers: \")\n",
    "for i in range(1,11):\n",
    "    if i % 2 !=0 :\n",
    "        print(i)"
   ]
  },
  {
   "cell_type": "markdown",
   "id": "96a0e5f8-aaa0-4d89-9f7f-b7367b2912de",
   "metadata": {},
   "source": [
    "####  <span style=\"color: green;\">13. Develop a program that counts the number of vowels in a string using a `for` loop.</span>"
   ]
  },
  {
   "cell_type": "code",
   "execution_count": 84,
   "id": "a07dcfc8-a30f-4d06-8a15-30bf9958adff",
   "metadata": {},
   "outputs": [
    {
     "name": "stdout",
     "output_type": "stream",
     "text": [
      "The string:  india\n",
      "Number of vowels in the string :  3\n"
     ]
    }
   ],
   "source": [
    "vowels = (\"aeiou\")\n",
    "my_string = \"India\"\n",
    "my_string = my_string.lower()\n",
    "count = 0\n",
    "for i in my_string:\n",
    "    if i  in vowels :\n",
    "        count+=1\n",
    "print(\"The string: \",my_string)\n",
    "print(\"Number of vowels in the string : \",count)\n"
   ]
  },
  {
   "cell_type": "markdown",
   "id": "9cd3ae1e-a886-40c4-bee9-55dcbe2e1253",
   "metadata": {},
   "source": [
    "####  <span style=\"color: green;\">14. Write a program to find the maximum element in a 2D list using a nested `for` loop.</span>"
   ]
  },
  {
   "cell_type": "code",
   "execution_count": 87,
   "id": "f6e31ac4-247e-4406-b423-2fbdb0dcaaee",
   "metadata": {},
   "outputs": [
    {
     "name": "stdout",
     "output_type": "stream",
     "text": [
      "The maximum element in the list is : 9\n"
     ]
    }
   ],
   "source": [
    "my_list =[[1,2,3],\n",
    "          [4,5,6],\n",
    "          [7,8,9]]\n",
    "max_element = my_list[0][0]\n",
    "for row in my_list:\n",
    "    for element in row :\n",
    "        if element > max_element:\n",
    "            max_element = element\n",
    "print(\"The maximum element in the list is :\",max_element)"
   ]
  },
  {
   "cell_type": "markdown",
   "id": "c2715be7-f4ca-4392-a464-06da51ed6cf7",
   "metadata": {},
   "source": [
    "####  <span style=\"color: green;\">15. Create a program that removes all occurrences of a specific element from a list using a `for` loop.</span>"
   ]
  },
  {
   "cell_type": "code",
   "execution_count": 92,
   "id": "c5ca4a3d-0915-4efb-9bed-a8bb2461ce43",
   "metadata": {},
   "outputs": [
    {
     "name": "stdout",
     "output_type": "stream",
     "text": [
      "[2, 1, 2, 3, 8, 5, 4, 2, 1, 9, 15, 2]\n"
     ]
    },
    {
     "name": "stdin",
     "output_type": "stream",
     "text": [
      "Enter the specific element for remove:  2\n"
     ]
    },
    {
     "name": "stdout",
     "output_type": "stream",
     "text": [
      "The list after removing 2 from the list : [1, 3, 8, 5, 4, 1, 9, 15]\n"
     ]
    }
   ],
   "source": [
    "my_list = [2,1,2,3,8,5,4,2,1,9,15,2]\n",
    "print(my_list)\n",
    "specific_element = int(input(\"Enter the specific element for remove: \"))\n",
    "for elements in my_list :\n",
    "    if elements == specific_element:\n",
    "        my_list.remove(elements)\n",
    "print(\"The list after removing\",specific_element,\"from the list :\",my_list)\n",
    "                "
   ]
  },
  {
   "cell_type": "markdown",
   "id": "51a7dfdf-89e3-4b46-971a-6c8ad16cb9ed",
   "metadata": {},
   "source": [
    "####  <span style=\"color: green;\">16. Develop a program that generates a multiplication table for numbers from 1 to 5 using a nested `for` loop.</span>"
   ]
  },
  {
   "cell_type": "code",
   "execution_count": 105,
   "id": "20ef35eb-8ecf-4176-bb46-4fa0dd9be71d",
   "metadata": {},
   "outputs": [
    {
     "name": "stdout",
     "output_type": "stream",
     "text": [
      "Multiolication table of:  1\n",
      "1 x 1 = 1\n",
      "1 x 2 = 2\n",
      "1 x 3 = 3\n",
      "1 x 4 = 4\n",
      "1 x 5 = 5\n",
      "1 x 6 = 6\n",
      "1 x 7 = 7\n",
      "1 x 8 = 8\n",
      "1 x 9 = 9\n",
      "1 x 10 = 10\n",
      "Multiolication table of:  2\n",
      "2 x 1 = 2\n",
      "2 x 2 = 4\n",
      "2 x 3 = 6\n",
      "2 x 4 = 8\n",
      "2 x 5 = 10\n",
      "2 x 6 = 12\n",
      "2 x 7 = 14\n",
      "2 x 8 = 16\n",
      "2 x 9 = 18\n",
      "2 x 10 = 20\n",
      "Multiolication table of:  3\n",
      "3 x 1 = 3\n",
      "3 x 2 = 6\n",
      "3 x 3 = 9\n",
      "3 x 4 = 12\n",
      "3 x 5 = 15\n",
      "3 x 6 = 18\n",
      "3 x 7 = 21\n",
      "3 x 8 = 24\n",
      "3 x 9 = 27\n",
      "3 x 10 = 30\n",
      "Multiolication table of:  4\n",
      "4 x 1 = 4\n",
      "4 x 2 = 8\n",
      "4 x 3 = 12\n",
      "4 x 4 = 16\n",
      "4 x 5 = 20\n",
      "4 x 6 = 24\n",
      "4 x 7 = 28\n",
      "4 x 8 = 32\n",
      "4 x 9 = 36\n",
      "4 x 10 = 40\n",
      "Multiolication table of:  5\n",
      "5 x 1 = 5\n",
      "5 x 2 = 10\n",
      "5 x 3 = 15\n",
      "5 x 4 = 20\n",
      "5 x 5 = 25\n",
      "5 x 6 = 30\n",
      "5 x 7 = 35\n",
      "5 x 8 = 40\n",
      "5 x 9 = 45\n",
      "5 x 10 = 50\n"
     ]
    }
   ],
   "source": [
    "for i in range(1,5+1) :\n",
    "    print(\"Multiolication table of: \",i)\n",
    "    for j in range(1,11): \n",
    "        print(i, \"x\", j, \"=\", i * j)\n",
    "\n"
   ]
  },
  {
   "cell_type": "markdown",
   "id": "2efb0d7e-0526-41f0-ae90-ac8040b85e71",
   "metadata": {},
   "source": [
    "####  <span style=\"color: green;\">17. Write a program that converts a list of Fahrenheit temperatures to Celsius using a `for` loop.</span>"
   ]
  },
  {
   "cell_type": "code",
   "execution_count": 109,
   "id": "d0ea46cf-18e4-465d-b79d-3fd68d8f7789",
   "metadata": {},
   "outputs": [
    {
     "name": "stdout",
     "output_type": "stream",
     "text": [
      "Temperature in fahrenheit:  [2, 4, 20, 32, 44, 30, 27, 56]\n",
      "Temperature in Celcius:  [-16.666666666666668, -15.555555555555555, -6.666666666666667, 0.0, 6.666666666666667, -1.1111111111111112, -2.7777777777777777, 13.333333333333334]\n"
     ]
    }
   ],
   "source": [
    "fahrenheit_list = [2,4,20,32,44,30,27,56]\n",
    "celcius_list = []\n",
    "for i in fahrenheit_list :\n",
    "    i = (i-32)*5/9\n",
    "    celcius_list.append(i)\n",
    "print(\"Temperature in fahrenheit: \",fahrenheit_list)\n",
    "print(\"Temperature in Celcius: \",celcius_list)"
   ]
  },
  {
   "cell_type": "markdown",
   "id": "2407154e-b501-4318-bc11-1ff0c964068e",
   "metadata": {},
   "source": [
    "####  <span style=\"color: green;\">18. Create a program to print the common elements from two lists using a `for` loop.</span>"
   ]
  },
  {
   "cell_type": "code",
   "execution_count": 114,
   "id": "27b876a6-39b9-47ae-99ec-424325872c77",
   "metadata": {},
   "outputs": [
    {
     "name": "stdout",
     "output_type": "stream",
     "text": [
      "List 1 : [2, 4, 5, 8, 3, 7, 12, 64, 70, 22]\n",
      "List 2 : [2, 12, 1, 6, 8, 9, 21, 12, 53, 12]\n",
      "Common elements between list 1 and list 2 :\n",
      "2\n",
      "8\n",
      "12\n"
     ]
    }
   ],
   "source": [
    "list_1 = [2,4,5,8,3,7,12,64,70,22]\n",
    "list_2 = [2,12,1,6,8,9,21,12,53,12]\n",
    "print(\"List 1 :\",list_1)\n",
    "print(\"List 2 :\",list_2)\n",
    "print(\"Common elements between list 1 and list 2 :\")\n",
    "for elements in list_1:\n",
    "    if elements in list_2:\n",
    "        print(elements)"
   ]
  },
  {
   "cell_type": "markdown",
   "id": "ebb9a6c8-edf6-4da1-a2f0-f62c94fcca18",
   "metadata": {},
   "source": [
    "####  <span style=\"color: green;\">19. Develop a program that prints the pattern of right-angled triangles using a `for` loop. Use ‘*’ to draw the pattern</span>"
   ]
  },
  {
   "cell_type": "code",
   "execution_count": 126,
   "id": "a6c310b3-5d34-4eea-ab2c-a5934010086f",
   "metadata": {},
   "outputs": [
    {
     "name": "stdout",
     "output_type": "stream",
     "text": [
      "*  \n",
      "*  *  \n",
      "*  *  *  \n",
      "*  *  *  *  \n",
      "*  *  *  *  *  \n",
      "*  *  *  *  *  *  \n",
      "*  *  *  *  *  *  *  \n",
      "*  *  *  *  *  *  *  *  \n",
      "*  *  *  *  *  *  *  *  *  \n",
      "*  *  *  *  *  *  *  *  *  *  \n"
     ]
    }
   ],
   "source": [
    "for i in range(1, 11):\n",
    "    for j in range(1,i+1):\n",
    "        print('*' , end = '  ')\n",
    "    print()\n",
    "    "
   ]
  },
  {
   "cell_type": "markdown",
   "id": "fc5e7842-340a-47bd-a88a-5e4f89ae501a",
   "metadata": {},
   "source": [
    "####  <span style=\"color: green;\">20. Write a program to find the greatest common divisor (GCD) of two numbers using a `for` loop.</span>"
   ]
  },
  {
   "cell_type": "code",
   "execution_count": 20,
   "id": "2ce1225c-1d90-4a2e-90af-6ec1042b6d43",
   "metadata": {},
   "outputs": [
    {
     "name": "stdin",
     "output_type": "stream",
     "text": [
      "Enter first number: 60\n",
      "Enter second number: 120\n"
     ]
    },
    {
     "name": "stdout",
     "output_type": "stream",
     "text": [
      "GCD of 60 and 120 is: 30\n"
     ]
    }
   ],
   "source": [
    "num_1 = int(input(\"Enter first number:\"))\n",
    "num_2 = int(input(\"Enter second number:\"))\n",
    "gcd = 0\n",
    "for i in range(1,min(num_1,num_2)):\n",
    "    if num_1%i == 0 and num_2 %i == 0:\n",
    "        gcd = i\n",
    "print(\"GCD of\", num_1, \"and\", num_2,\"is:\",gcd)"
   ]
  },
  {
   "cell_type": "markdown",
   "id": "1abb7973-ad0e-403f-8a4c-2f1f326a0c58",
   "metadata": {},
   "source": [
    "# <span style=\"color: blue;\">Advanced Level:</span>"
   ]
  },
  {
   "cell_type": "markdown",
   "id": "a859271a-03ce-4417-98ea-bc80085e4fc9",
   "metadata": {},
   "source": [
    "####  <span style=\"color: green;\">21. Create a program that calculates the sum of the digits of numbers in a list using a list comprehension.</span>"
   ]
  },
  {
   "cell_type": "code",
   "execution_count": 3,
   "id": "5daa1e1c-5ec8-41c1-8dc0-6ea445e4750b",
   "metadata": {},
   "outputs": [
    {
     "name": "stdout",
     "output_type": "stream",
     "text": [
      "[22, 4, 5, 6, 7, 8]\n",
      "The sum of the digits of numbers is : 52\n"
     ]
    }
   ],
   "source": [
    "lst = [22,4,5,6,7,8]\n",
    "sum_digits = sum([i for i in lst])\n",
    "print(lst)\n",
    "\n",
    "print(\"The sum of the digits of numbers is :\",sum_digits)"
   ]
  },
  {
   "cell_type": "markdown",
   "id": "17f56232-e0c2-4ccd-9eff-00a26d3c12dd",
   "metadata": {},
   "source": [
    "####  <span style=\"color: green;\">22. Write a program to find the prime factors of a given number using a `for` loop and list comprehension.</span>"
   ]
  },
  {
   "cell_type": "code",
   "execution_count": 35,
   "id": "e682b5d1-5e41-41ba-a987-be08aff2b9f3",
   "metadata": {},
   "outputs": [
    {
     "name": "stdin",
     "output_type": "stream",
     "text": [
      "Enter the number : 100\n"
     ]
    },
    {
     "name": "stdout",
     "output_type": "stream",
     "text": [
      "The prime factors of 100 is : [2, 5]\n"
     ]
    }
   ],
   "source": [
    "number = int(input(\"Enter the number :\"))\n",
    "prime_factor = [factor for factor in range(2,number + 1) if number%factor==0  and all(factor %i !=0 for i in range(2,int(factor **0.5)+1))]\n",
    "if len(prime_factor) == 0:\n",
    "    print(number,\"has no prime factor\")\n",
    "else:\n",
    "    print(\"The prime factors of\",number,\"is :\",prime_factor)"
   ]
  },
  {
   "cell_type": "markdown",
   "id": "320ca20b-7d4c-4795-a008-22a92f6c0dee",
   "metadata": {},
   "source": [
    "####  <span style=\"color: green;\">23. Develop a program that extracts unique elements from a list and stores them in a new list using a list comprehension.</span>"
   ]
  },
  {
   "cell_type": "code",
   "execution_count": 45,
   "id": "2418d966-79b0-491d-a634-0e836819194b",
   "metadata": {},
   "outputs": [
    {
     "name": "stdout",
     "output_type": "stream",
     "text": [
      "The list: [2, 1, 4, 5, 6, 8, 7, 5, 4, 2, 7, 5, 9, 3]\n",
      "The unique elements from the list : [1, 6, 8, 9, 3]\n"
     ]
    }
   ],
   "source": [
    "lst = [2,1,4,5,6,8,7,5,4,2,7,5,9,3]\n",
    "print(\"The list:\",lst)\n",
    "\n",
    "unique_element = [i for i in lst if lst.count(i) == 1]\n",
    "if len(unique_element) == 0:\n",
    "    print(\"There is no unique element in the list\")\n",
    "else:\n",
    "    print(\"The unique elements from the list :\",unique_element)"
   ]
  },
  {
   "cell_type": "markdown",
   "id": "8a33d4f1-70ba-460f-b542-45ba90b526f2",
   "metadata": {},
   "source": [
    "####  <span style=\"color: green;\">24. Create a program that generates a list of all palindromic numbers up to a specified limit using a list comprehension.</span>"
   ]
  },
  {
   "cell_type": "code",
   "execution_count": 9,
   "id": "ca55d424-82f1-4bf3-8746-162f7c858353",
   "metadata": {},
   "outputs": [
    {
     "name": "stdout",
     "output_type": "stream",
     "text": [
      "Pallindromic numbers uoto 200 : [0, 1, 2, 3, 4, 5, 6, 7, 8, 9, 11, 22, 33, 44, 55, 66, 77, 88, 99, 101, 111, 121, 131, 141, 151, 161, 171, 181, 191]\n"
     ]
    }
   ],
   "source": [
    "limit = 200\n",
    "pallindromic_list = [i for i in range(limit+1) if str(i) == str(i) [::-1]]\n",
    "print(\"Pallindromic numbers uoto\",limit,\":\",pallindromic_list)"
   ]
  },
  {
   "cell_type": "markdown",
   "id": "cd8049ee-c5d9-4319-9c2d-5fa709167d0b",
   "metadata": {},
   "source": [
    "####  <span style=\"color: green;\">25. Write a program to flatten a nested list using list comprehension.</span>"
   ]
  },
  {
   "cell_type": "code",
   "execution_count": 13,
   "id": "fd8676b9-5c4a-4dee-b8c9-36bab3497f66",
   "metadata": {},
   "outputs": [
    {
     "name": "stdout",
     "output_type": "stream",
     "text": [
      "[[2, 4, 6], [1, 4, 7], [5.8, 9]]\n",
      "Flattened list [2, 4, 6, 1, 4, 7, 5.8, 9]\n"
     ]
    }
   ],
   "source": [
    "nested_list = [[2,4,6],[1,4,7],[5.8,9]]\n",
    "lst = [items for n in nested_list for items in n]\n",
    "print(nested_list)\n",
    "print(\"Flattened list\",lst)"
   ]
  },
  {
   "cell_type": "markdown",
   "id": "57ae9476-28d8-4ac9-8051-6787bd2d87c6",
   "metadata": {},
   "source": [
    "####  <span style=\"color: green;\">26. Develop a program that computes the sum of even and odd numbers in a list separately using list comprehension.</span>"
   ]
  },
  {
   "cell_type": "code",
   "execution_count": 28,
   "id": "ca8f628f-c5b1-440f-96f3-9603486cc91d",
   "metadata": {},
   "outputs": [
    {
     "name": "stdout",
     "output_type": "stream",
     "text": [
      "Given list: [22, 4, 5, 6, 7, 8, 21, 25]\n",
      "The sum of even numbers from the list: 40\n",
      "The sum of odd numbers from the list: 58\n"
     ]
    }
   ],
   "source": [
    "lst = [22,4,5,6,7,8,21,25]\n",
    "sum_even = sum([i for i in lst if i %2==0]) \n",
    "sum_odd = sum([j for j in lst if j%2!=0])\n",
    "print(\"Given list:\",lst)\n",
    "print(\"The sum of even numbers from the list:\",sum_even)\n",
    "print(\"The sum of odd numbers from the list:\",sum_odd)"
   ]
  },
  {
   "cell_type": "markdown",
   "id": "443450b6-3266-4a8f-91bb-7ee0bcc12ff0",
   "metadata": {},
   "source": [
    "####  <span style=\"color: green;\">27. Create a program that generates a list of squares of odd numbers between 1 and 10 using list comprehension.</span>"
   ]
  },
  {
   "cell_type": "code",
   "execution_count": 29,
   "id": "c7561312-4ecc-4aac-bbc8-818b7b7cb32d",
   "metadata": {},
   "outputs": [
    {
     "name": "stdout",
     "output_type": "stream",
     "text": [
      "Square of odd numbers from 1 to 10 : [1, 9, 25, 49, 81]\n"
     ]
    }
   ],
   "source": [
    "square_odd = [ i**2 for i in range(1,11) if i%2 !=0]\n",
    "print(\"Square of odd numbers from 1 to 10 :\",square_odd)"
   ]
  },
  {
   "cell_type": "markdown",
   "id": "b7dffa6e-82e7-4752-a8c3-5417859b4338",
   "metadata": {},
   "source": [
    "####  <span style=\"color: green;\">28. Write a program that combines two lists into a dictionary using list comprehension.</span>"
   ]
  },
  {
   "cell_type": "code",
   "execution_count": 39,
   "id": "8fbd909a-aea9-4006-8630-701c83f710b1",
   "metadata": {},
   "outputs": [
    {
     "name": "stdout",
     "output_type": "stream",
     "text": [
      "{1: 'apple', 2: 'litchi', 3: 'mango'}\n"
     ]
    }
   ],
   "source": [
    "keys = [1, 2, 3]\n",
    "values= ['apple', 'litchi', 'mango']\n",
    "\n",
    "dictionary = {k: v for k, v in zip(keys, values)}\n",
    "print(dictionary)"
   ]
  },
  {
   "cell_type": "markdown",
   "id": "37fa9aa3-5f38-4196-aa72-586457685d67",
   "metadata": {},
   "source": [
    "####  <span style=\"color: green;\">29. Develop a program that extracts the vowels from a string and stores them in a list using list comprehension.</span>"
   ]
  },
  {
   "cell_type": "code",
   "execution_count": 44,
   "id": "9f8186e3-4ba6-431f-a6f4-b942c37d4ee6",
   "metadata": {},
   "outputs": [
    {
     "name": "stdout",
     "output_type": "stream",
     "text": [
      "Given list : asmitaa\n",
      "List of vowels from the string:  ['a', 'i', 'a', 'a']\n"
     ]
    }
   ],
   "source": [
    "my_string = \"asmitaa\"\n",
    "vowel_list = [i for i in my_string if  i in \"aeiou\" ]\n",
    "print(\"Given list :\",my_string)\n",
    "print(\"List of vowels from the string: \",vowel_list)"
   ]
  },
  {
   "cell_type": "markdown",
   "id": "c3f8313d-4643-4e60-8b0b-f626e390e9e9",
   "metadata": {},
   "source": [
    "####  <span style=\"color: green;\">30. Create a program that removes all non-numeric characters from a list of strings using list comprehension.</span>"
   ]
  },
  {
   "cell_type": "code",
   "execution_count": 53,
   "id": "49a1232a-5cc5-423a-a059-633c248e75d2",
   "metadata": {},
   "outputs": [
    {
     "name": "stdout",
     "output_type": "stream",
     "text": [
      "Original List:  ['asmita11', '22python', '8a4bap33']\n",
      "List with Only Numeric Characters: ['11', '22', '8433']\n"
     ]
    }
   ],
   "source": [
    "import re\n",
    "string_lst = [\"asmita11\",\"22python\",\"8a4bap33\"]\n",
    "pattern = '[a-z]'\n",
    "non_numeric = [re.sub(pattern,\"\",i)for i in string_lst]\n",
    "print(\"Original List: \",string_lst)\n",
    "print(\"List with Only Numeric Characters:\",non_numeric)"
   ]
  },
  {
   "cell_type": "markdown",
   "id": "05bcf827-b5d5-4f47-8515-f611fee90d96",
   "metadata": {},
   "source": [
    "# <span style=\"color: blue;\">Challenge Level:</span>"
   ]
  },
  {
   "cell_type": "markdown",
   "id": "f1c13380-386e-4ec2-b127-39a75a58deb6",
   "metadata": {},
   "source": [
    "####  <span style=\"color: green;\">31. Write a program to generate a list of prime numbers using the Sieve of Eratosthenes algorithm and list comprehension.</span>"
   ]
  },
  {
   "cell_type": "code",
   "execution_count": 7,
   "id": "ff6cde2e-6654-4f46-b74a-096ba180a3f4",
   "metadata": {},
   "outputs": [
    {
     "name": "stdout",
     "output_type": "stream",
     "text": [
      "[2, 3, 5, 7, 11, 13, 17, 19, 23]\n"
     ]
    }
   ],
   "source": [
    "def sieve_of_eratosthenes(limit):\n",
    "    \n",
    "    is_prime = [True] * (limit+1)\n",
    "    is_prime[0] = is_prime[1] = False\n",
    "    \n",
    "    for i in range(2,int(limit ** 0.5) + 1):\n",
    "        if is_prime[i]:\n",
    "            is_prime[i*i:limit+1:i] = [False] * len(range(i*i, limit+1, i))\n",
    "            \n",
    "    primes = [i for i in range(2,limit+1) if is_prime[i]]\n",
    "    return primes\n",
    "\n",
    "limit = 25\n",
    "prime_numbers = sieve_of_eratosthenes(limit)\n",
    "print(prime_numbers)"
   ]
  },
  {
   "cell_type": "markdown",
   "id": "1b46a97a-5c20-482c-9222-e49c7854267d",
   "metadata": {},
   "source": [
    "####  <span style=\"color: green;\">32. Create a program that generates a list of all Pythagorean triplets up to a specified limit using list comprehension.</span>"
   ]
  },
  {
   "cell_type": "code",
   "execution_count": 10,
   "id": "f4542f2d-7d55-4117-99c9-93c77eb5d9dc",
   "metadata": {},
   "outputs": [
    {
     "name": "stdout",
     "output_type": "stream",
     "text": [
      "[(3, 4, 5), (5, 12, 13), (6, 8, 10), (7, 24, 25), (8, 15, 17), (9, 12, 15), (10, 24, 26), (12, 16, 20), (15, 20, 25), (18, 24, 30), (20, 21, 29)]\n"
     ]
    }
   ],
   "source": [
    "def pythagorean_triplets(limit):\n",
    "    triplets = [(a, b, c) for a in range(1, limit + 1) for b in range(a, limit + 1) for c in range(b, limit + 1) if a**2 + b**2 == c**2]\n",
    "    return triplets\n",
    "limit = 30\n",
    "print(pythagorean_triplets(limit))\n"
   ]
  },
  {
   "cell_type": "markdown",
   "id": "67af6867-bc48-4b25-882b-22c1b5d79130",
   "metadata": {},
   "source": [
    "####  <span style=\"color: green;\">33. Develop a program that generates a list of all possible combinations of two lists using list comprehension.</span>"
   ]
  },
  {
   "cell_type": "code",
   "execution_count": 13,
   "id": "203826a5-2279-4ddb-a5fd-23759d45c218",
   "metadata": {},
   "outputs": [
    {
     "name": "stdout",
     "output_type": "stream",
     "text": [
      "[('x', 1), ('x', 2), ('x', 3), ('y', 1), ('y', 2), ('y', 3), ('z', 1), ('z', 2), ('z', 3)]\n"
     ]
    }
   ],
   "source": [
    "list1 = ['x', 'y', 'z']\n",
    "list2 = [1, 2, 3]\n",
    "\n",
    "combination_list = [(i, j) for i in list1 for j in list2]\n",
    "\n",
    "print(combination_list)\n"
   ]
  },
  {
   "cell_type": "markdown",
   "id": "41cba82b-7c38-4149-8562-aabaa01d466c",
   "metadata": {},
   "source": [
    "####  <span style=\"color: green;\">34. Write a program that calculates the mean, median, and mode of a list of numbers using list comprehension.</span>"
   ]
  },
  {
   "cell_type": "code",
   "execution_count": 64,
   "id": "86c5fdef-747c-40a0-a2a2-6f1ad6bbbaa8",
   "metadata": {},
   "outputs": [
    {
     "name": "stdout",
     "output_type": "stream",
     "text": [
      "Given list:  [10, 26, 2, 3, 5, 8, 2, 12]\n",
      "Mean of given list:  8.5\n",
      "Median of given list:  6.5\n",
      "Mode of given list:  2\n"
     ]
    }
   ],
   "source": [
    "import statistics\n",
    "my_list = [10,26,2,3,5,8,2,12]\n",
    "print(\"Given list: \",my_list)\n",
    "\n",
    "mean = statistics.mean([i for i in my_list ]) \n",
    "print(\"Mean of given list: \",mean)\n",
    "\n",
    "median = statistics.median([i for i in my_list ])\n",
    "print(\"Median of given list: \",median)\n",
    "\n",
    "mode = statistics.mode([i for i in my_list])\n",
    "print(\"Mode of given list: \",mode)"
   ]
  },
  {
   "cell_type": "markdown",
   "id": "6b23613f-100b-4599-a40a-05d838f32fab",
   "metadata": {},
   "source": [
    "####  <span style=\"color: green;\">36.Develop a program that calculates the sum of the digits of a factorial of numbers from 1 to 5 using list comprehension.</span>"
   ]
  },
  {
   "cell_type": "code",
   "execution_count": 65,
   "id": "ea36039a-79a1-4853-bd88-10455aed7e32",
   "metadata": {},
   "outputs": [
    {
     "name": "stdout",
     "output_type": "stream",
     "text": [
      "The sum of digits of 1! is 1\n",
      "The sum of digits of 2! is 2\n",
      "The sum of digits of 3! is 6\n",
      "The sum of digits of 4! is 6\n",
      "The sum of digits of 5! is 3\n"
     ]
    }
   ],
   "source": [
    "import math\n",
    "def digit_sum(n):\n",
    "    return sum(int(digit) for digit in str(n))\n",
    "\n",
    "factorials_and_sums = [(i, digit_sum(math.factorial(i))) for i in range(1, 6)]\n",
    "\n",
    "for number, digit_sum_result in factorials_and_sums:\n",
    "    print(f\"The sum of digits of {number}! is {digit_sum_result}\")\n"
   ]
  },
  {
   "cell_type": "markdown",
   "id": "71568ba9-d7a3-4f6f-ab97-0af44f6745db",
   "metadata": {},
   "source": [
    "####  <span style=\"color: green;\">37. Write a program that finds the longest word in a sentence using list comprehension.</span>"
   ]
  },
  {
   "cell_type": "code",
   "execution_count": 77,
   "id": "6b999cee-0fb3-4aac-9ccf-7432a9827fcf",
   "metadata": {},
   "outputs": [
    {
     "name": "stdout",
     "output_type": "stream",
     "text": [
      "Given sentence:  hello world ! this is asmita\n",
      "The longest word in the sentence is : asmita\n"
     ]
    }
   ],
   "source": [
    "sentence = \"hello world ! this is asmita\"\n",
    "print(\"Given sentence: \",sentence)\n",
    "\n",
    "split_sentence = sentence.split()\n",
    "\n",
    "word = max([i for i in split_sentence ],key=len)\n",
    "print(\"The longest word in the sentence is :\",word)"
   ]
  },
  {
   "cell_type": "markdown",
   "id": "0b50f3ce-cd96-46cc-acdc-0209a99aac6a",
   "metadata": {},
   "source": [
    "####  <span style=\"color: green;\">38. Create a program that filters a list of strings to include only those with more than three vowels using list comprehension.</span>"
   ]
  },
  {
   "cell_type": "code",
   "execution_count": 175,
   "id": "a9076bfd-bc1c-4d28-bda7-a781673255fe",
   "metadata": {},
   "outputs": [
    {
     "name": "stdout",
     "output_type": "stream",
     "text": [
      "List of strings: ['hello', 'world', 'audio', 'asmita', 'das', 'umbrella', 'euthanasia']\n",
      "List of strings with more than three vowels: ['audio', 'euthanasia']\n"
     ]
    }
   ],
   "source": [
    "def count_vowels(word):\n",
    "    return sum(1 for char in word if char.lower() in \"aeiou\")\n",
    "\n",
    "def check_for_more_than_three_vowels(string_list):\n",
    "    return [word for word in string_list if count_vowels(word) > 3]\n",
    "\n",
    "word_list = [\"hello\", \"world\",\"audio\",\"asmita\", \"das\",\"umbrella\", \"euthanasia\"]\n",
    "filtered_words = check_for_more_than_three_vowels(word_list)\n",
    "\n",
    "print(\"List of strings:\", word_list)\n",
    "print(\"List of strings with more than three vowels:\", filtered_words)\n"
   ]
  },
  {
   "cell_type": "markdown",
   "id": "5b07fcee-f03c-4bc1-87f3-c67738736028",
   "metadata": {},
   "source": [
    "####  <span style=\"color: green;\">39. Develop a program that calculates the sum of the digits of numbers from 1 to 1000 using list comprehension.</span>"
   ]
  },
  {
   "cell_type": "code",
   "execution_count": 179,
   "id": "604d321d-d1d3-4fa9-a185-694424b29732",
   "metadata": {},
   "outputs": [
    {
     "data": {
      "text/plain": [
       "500500"
      ]
     },
     "execution_count": 179,
     "metadata": {},
     "output_type": "execute_result"
    }
   ],
   "source": [
    "sum_digit = sum([i for i  in range(1,1000+1)])\n",
    "sum_digit"
   ]
  },
  {
   "cell_type": "markdown",
   "id": "0351afcf-3948-4d47-91d2-bf7915c4522c",
   "metadata": {},
   "source": [
    "####  <span style=\"color: green;\">40. Write a program that generates a list of prime palindromic numbers using list comprehension.</span>"
   ]
  },
  {
   "cell_type": "code",
   "execution_count": 200,
   "id": "d7df5375-2815-43f4-9df3-a4d904f1847d",
   "metadata": {},
   "outputs": [
    {
     "name": "stdout",
     "output_type": "stream",
     "text": [
      "List of prime palindrome numbers:  [11, 101, 131, 151, 181, 191, 313, 353, 373, 383, 727, 757, 787, 797, 919, 929]\n"
     ]
    }
   ],
   "source": [
    "value = 313313\n",
    "prime = [x for x in range( 2,1000) if all(x % y != 0 for y in range(2, x))if x>10 if str(x) == str(x)[::-1]   ]\n",
    "print(\"List of prime palindrome numbers: \",prime)\n"
   ]
  },
  {
   "cell_type": "code",
   "execution_count": null,
   "id": "3b9651f1-d073-4f82-a512-3030c3757291",
   "metadata": {},
   "outputs": [],
   "source": []
  }
 ],
 "metadata": {
  "kernelspec": {
   "display_name": "Python 3 (ipykernel)",
   "language": "python",
   "name": "python3"
  },
  "language_info": {
   "codemirror_mode": {
    "name": "ipython",
    "version": 3
   },
   "file_extension": ".py",
   "mimetype": "text/x-python",
   "name": "python",
   "nbconvert_exporter": "python",
   "pygments_lexer": "ipython3",
   "version": "3.10.9"
  }
 },
 "nbformat": 4,
 "nbformat_minor": 5
}
